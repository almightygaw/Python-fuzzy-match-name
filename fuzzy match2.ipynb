{
 "cells": [
  {
   "cell_type": "code",
   "execution_count": null,
   "id": "e76e889a-cfb1-458f-887b-1700ccd48bd2",
   "metadata": {
    "tags": []
   },
   "outputs": [],
   "source": [
    "import pandas as pd\n",
    "import os\n",
    "from fuzzywuzzy import process, fuzz\n",
    "#import thefuzz\n",
    "\n",
    "os.chdir('file dir')"
   ]
  },
  {
   "cell_type": "code",
   "execution_count": null,
   "id": "559fe8de-ecea-4fa2-afae-349c85d7c751",
   "metadata": {
    "tags": []
   },
   "outputs": [],
   "source": [
    "# import Cancer+ providers list\n",
    "employee_list = pd.read_excel('Employee List.xlsx',\n",
    "                            sheet_name = 'Employees',\n",
    "                            header = 2,\n",
    "                            usecols = 'D')\n",
    "\n",
    "employee_list.drop_duplicates(inplace = True)\n",
    "\n",
    "employee_list.shape[0]"
   ]
  },
  {
   "cell_type": "code",
   "execution_count": null,
   "id": "6df94254",
   "metadata": {},
   "outputs": [],
   "source": [
    "employee_list.head(3)"
   ]
  },
  {
   "cell_type": "code",
   "execution_count": null,
   "id": "0cf084d0-b1c2-4afd-8c1a-5176f2bbf15a",
   "metadata": {},
   "outputs": [],
   "source": [
    "# import roster roster\n",
    "roster = pd.read_excel('Roster.xls',\n",
    "                            engine = 'xlrd',\n",
    "                            sheet_name = 'Roster')\n",
    "\n",
    "roster.fillna('', inplace = True)\n",
    "\n",
    "# combine name/degree fields into new field\n",
    "roster.insert(loc = 0,\n",
    "                   column = 'full_name',\n",
    "                   value = roster['first_name'] + ' ' + roster['last_name'] + ' ' + roster['degree'])\n",
    "\n",
    "roster = roster[['full_name', 'first_name', 'middle_name', 'last_name', 'degree', 'start_date', 'end_date']]\n",
    "\n",
    "roster.head()"
   ]
  },
  {
   "cell_type": "code",
   "execution_count": null,
   "id": "01f43149",
   "metadata": {},
   "outputs": [],
   "source": [
    "comparison = []\n",
    "\n",
    "for i in employee_list['Provider']:\n",
    "  for j in roster['full_name']:\n",
    "    if fuzz.ratio(i, j) > 85:\n",
    "      comparison.append([i, j, fuzz.ratio(i, j)])"
   ]
  },
  {
   "cell_type": "code",
   "execution_count": null,
   "id": "6c034758",
   "metadata": {},
   "outputs": [],
   "source": [
    "pd.DataFrame(comparison, columns = ['employee_list',\n",
    "                                    'roster',\n",
    "                                    'similarity']).to_excel('Book1.xlsx',\n",
    "                                                            sheet_name = 'fuzzy match',\n",
    "                                                            index = False)"
   ]
  }
 ],
 "metadata": {
  "kernelspec": {
   "display_name": "Python 3 (ipykernel)",
   "language": "python",
   "name": "python3"
  },
  "language_info": {
   "codemirror_mode": {
    "name": "ipython",
    "version": 3
   },
   "file_extension": ".py",
   "mimetype": "text/x-python",
   "name": "python",
   "nbconvert_exporter": "python",
   "pygments_lexer": "ipython3",
   "version": "3.11.5"
  }
 },
 "nbformat": 4,
 "nbformat_minor": 5
}
